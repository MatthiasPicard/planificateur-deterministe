{
 "cells": [
  {
   "cell_type": "code",
   "execution_count": 1,
   "metadata": {},
   "outputs": [],
   "source": [
    "import pddlpy"
   ]
  },
  {
   "cell_type": "code",
   "execution_count": 3,
   "metadata": {},
   "outputs": [
    {
     "name": "stderr",
     "output_type": "stream",
     "text": [
      "<>:1: SyntaxWarning: invalid escape sequence '\\P'\n",
      "<>:2: SyntaxWarning: invalid escape sequence '\\P'\n",
      "<>:1: SyntaxWarning: invalid escape sequence '\\P'\n",
      "<>:2: SyntaxWarning: invalid escape sequence '\\P'\n",
      "C:\\Users\\link3\\AppData\\Local\\Temp\\ipykernel_9552\\1175359565.py:1: SyntaxWarning: invalid escape sequence '\\P'\n",
      "  domain = \".\\Problems\\Groupe3\\maze.pddl\"\n",
      "C:\\Users\\link3\\AppData\\Local\\Temp\\ipykernel_9552\\1175359565.py:2: SyntaxWarning: invalid escape sequence '\\P'\n",
      "  problem = '.\\Problems\\Groupe3\\problems\\maze_p0.pddl'\n"
     ]
    }
   ],
   "source": [
    "domain = \".\\Problems\\Groupe3\\maze.pddl\"\n",
    "problem = '.\\Problems\\Groupe3\\problems\\maze_p0.pddl'\n",
    "\n",
    "dp = pddlpy.DomainProblem(domain, problem)"
   ]
  },
  {
   "cell_type": "code",
   "execution_count": 22,
   "metadata": {},
   "outputs": [],
   "source": [
    "def info_dp(dp):\n",
    "    #print(\"Domain: \" + str(dp.domain))\n",
    "    print(\"Goals: \" + str(dp.goals()))\n",
    "    print(\"Ground operator: \" + str(dp.ground_operator(\"move-down\")))\n",
    "    print(\"Initial state: \" + str(dp.initialstate()))\n",
    "    print(\"Operators: \" + str(dp.operators()))\n",
    "    #print(\"Problem: \" + str(dp.problem))\n",
    "    #print(\"Vargroundspace: \" + str(dp.vargroundspace))\n",
    "    print(\"World objects: \" + str(dp.worldobjects()))"
   ]
  },
  {
   "cell_type": "code",
   "execution_count": 23,
   "metadata": {},
   "outputs": [
    {
     "name": "stdout",
     "output_type": "stream",
     "text": [
      "Goals: {('at', 'maxime', 'x4', 'y4')}\n",
      "Ground operator: <generator object DomainProblem.ground_operator at 0x0000025109251D80>\n",
      "Initial state: {('dec', 'x2', 'x1'), ('inc', 'x3', 'x4'), ('dec', 'y4', 'y3'), ('at', 'maxime', 'x1', 'y1'), ('inc', 'y1', 'y2'), ('inc', 'y3', 'y4'), ('can_jump', 'maxime'), ('dec', 'x3', 'x2'), ('dec', 'y3', 'y2'), ('dec', 'y2', 'y1'), ('inc', 'x2', 'x3'), ('inc', 'y2', 'y3'), ('dec', 'x4', 'x3'), ('inc', 'x1', 'x2')}\n",
      "Operators: dict_keys(['move-up', 'move-down', 'move-left', 'move-right', 'jump-up', 'jump-down', 'jump-left', 'jump-right'])\n",
      "World objects: {'x4': 'position', 'x2': 'position', 'y4': 'position', 'maxime': 'agent', 'x1': 'position', 'y3': 'position', 'y2': 'position', 'x3': 'position', 'y1': 'position'}\n"
     ]
    }
   ],
   "source": [
    "info_dp(dp)"
   ]
  },
  {
   "cell_type": "markdown",
   "metadata": {},
   "source": [
    "On veut un plan\n",
    "\n",
    "On utilise GraphPlan\n",
    "\n",
    "On crée un graphe et on cherche un plan\n",
    "\n",
    "On crée un graphe : forward\n",
    "On cherche un plan : backward\n",
    "\n",
    "Quand on fait le forward, à chaque nouveau state on fait un backward\n",
    "\n",
    "Pour faire un forward :\n",
    "- On prend un state\n",
    "- On applique toutes les actions qu'on peut\n",
    "- On crée un nouveau state avec les nouveaux prédicats\n",
    "- On donne les nouveaux mutex\n",
    "\n",
    "Appliquer une action :\n",
    "- Regarder si ses préconditions sont respectées\n",
    "- Donner les prédicats que cette action génère\n",
    "\n",
    "Problème actuel :\n",
    "Si on vérifie qu'il n'y a pas de murs, comment on fait si on n'a pas ce (non) prédicat dans notre state ?\n",
    "- On regarde si le prédicat est dans la liste neg\n",
    "\t- Si oui, on peut appliquer l'action\n",
    "\t- Si non, on regarde si le prédicat est dans la liste pos\n",
    "\t\t- Si oui, on ne peut pas appliquer l'action\n",
    "\t\t- Si non, on peut appliquer l'action et on rajoute le prédicat dans la liste neg"
   ]
  },
  {
   "cell_type": "code",
   "execution_count": 238,
   "metadata": {},
   "outputs": [],
   "source": [
    "# Notre state a une partie pos et une partie neg\n",
    "class State:\n",
    "\tdef __init__(self, pos: set, neg: set):\n",
    "\t\tself.pos = pos\n",
    "\t\tself.neg = neg\n",
    "\n",
    "\tdef __str__(self):\n",
    "\t\treturn f\"pos : {self.pos}\\nneg : {self.neg}\"\n",
    "\n",
    "\tdef copy(self):\n",
    "\t\treturn State(self.pos.copy(), self.neg.copy())"
   ]
  },
  {
   "cell_type": "code",
   "execution_count": 265,
   "metadata": {},
   "outputs": [],
   "source": [
    "class Action:\n",
    "    def __init__(self, pre_pos, pre_neg, eff_pos, eff_neg):\n",
    "        self.pre_pos = pre_pos\n",
    "        self.pre_neg = pre_neg\n",
    "        self.eff_pos = eff_pos\n",
    "        self.eff_neg = eff_neg\n",
    "\n",
    "    def __str__(self):\n",
    "        return f\"pre_pos : {self.pre_pos}\\npre_neg : {self.pre_neg}\\neff_pos : {self.eff_pos}\\neff_neg : {self.eff_neg}\\n\"\n",
    "\n",
    "    def __repr__(self):\n",
    "        return f\"pre_pos : {self.pre_pos}\\npre_neg : {self.pre_neg}\\neff_pos : {self.eff_pos}\\neff_neg : {self.eff_neg}\\n\""
   ]
  },
  {
   "cell_type": "code",
   "execution_count": 222,
   "metadata": {},
   "outputs": [],
   "source": [
    "def set_str(s: set):\n",
    "    s_str = set()\n",
    "    for i in s:\n",
    "        s_str.add(str(i))\n",
    "    return s_str"
   ]
  },
  {
   "cell_type": "code",
   "execution_count": 223,
   "metadata": {},
   "outputs": [],
   "source": [
    "def is_applicable(action, state):\n",
    "    a_pos = set_str(action.precondition_pos)\n",
    "    a_neg = set_str(action.precondition_neg)\n",
    "    if not a_pos <= state.pos:\n",
    "        return False\n",
    "    if a_neg <= state.neg:\n",
    "        return True\n",
    "    else:\n",
    "        if (a_neg - state.neg).isdisjoint(state.pos):\n",
    "            state.neg.update(a_neg) # On choisit d'update le state plutôt que le next_state, la maj effectuée est sur des prédicats déjà présents (puisque hypothèse du monde clos)\n",
    "            return True\n",
    "        else:\n",
    "            return False"
   ]
  },
  {
   "cell_type": "code",
   "execution_count": 224,
   "metadata": {},
   "outputs": [],
   "source": [
    "def forward(actions, state):\n",
    "    next_action = set()\n",
    "    effect_pos = set()\n",
    "    effect_neg = set()\n",
    "    for action in actions:\n",
    "        if is_applicable(action, state):\n",
    "            p_pos = set_str(action.precondition_pos)\n",
    "            p_neg = set_str(action.precondition_neg)\n",
    "            e_pos = set_str(action.effect_pos)\n",
    "            e_neg = set_str(action.effect_neg)\n",
    "            next_action.add(Action(p_pos, p_neg, e_pos, e_neg))\n",
    "            effect_pos.update(e_pos)\n",
    "            effect_neg.update(e_neg)\n",
    "    next_state = state.copy()\n",
    "    next_state.pos.update(effect_pos)\n",
    "    next_state.neg.update(effect_neg)\n",
    "    return next_state, next_action"
   ]
  },
  {
   "cell_type": "code",
   "execution_count": 225,
   "metadata": {},
   "outputs": [],
   "source": [
    "init = State(set_str(dp.initialstate()), set())"
   ]
  },
  {
   "cell_type": "code",
   "execution_count": 226,
   "metadata": {},
   "outputs": [
    {
     "name": "stdout",
     "output_type": "stream",
     "text": [
      "pos : {\"('dec', 'x2', 'x1')\", \"('dec', 'y3', 'y2')\", \"('inc', 'x1', 'x2')\", \"('dec', 'x3', 'x2')\", \"('dec', 'y2', 'y1')\", \"('dec', 'x4', 'x3')\", \"('at', 'maxime', 'x1', 'y1')\", \"('inc', 'y3', 'y4')\", \"('dec', 'y4', 'y3')\", \"('inc', 'y2', 'y3')\", \"('inc', 'x2', 'x3')\", \"('can_jump', 'maxime')\", \"('inc', 'y1', 'y2')\", \"('inc', 'x3', 'x4')\"}\n",
      "neg : set()\n"
     ]
    }
   ],
   "source": [
    "print(init)"
   ]
  },
  {
   "cell_type": "code",
   "execution_count": 266,
   "metadata": {},
   "outputs": [],
   "source": [
    "next_state = State(set(), set())\n",
    "next_action = set()\n",
    "for op in dp.operators():\n",
    "    n_s, n_a = forward(dp.ground_operator(op), init)\n",
    "    next_state.pos.update(n_s.pos)\n",
    "    next_state.neg.update(n_s.neg)\n",
    "    next_action.update(n_a)"
   ]
  },
  {
   "cell_type": "code",
   "execution_count": 263,
   "metadata": {},
   "outputs": [
    {
     "name": "stdout",
     "output_type": "stream",
     "text": [
      "pos : {\"('dec', 'x2', 'x1')\", \"('dec', 'y3', 'y2')\", \"('dec', 'x3', 'x2')\", \"('dec', 'y2', 'y1')\", \"('inc', 'x2', 'x3')\", \"('at', 'maxime', 'x1', 'y1')\", \"('inc', 'y3', 'y4')\", \"('dec', 'y4', 'y3')\", \"('inc', 'y2', 'y3')\", \"('at', 'maxime', 'x2', 'y1')\", \"('can_jump', 'maxime')\", \"('at', 'maxime', 'x1', 'y2')\", \"('inc', 'x1', 'x2')\", \"('dec', 'x4', 'x3')\", \"('inc', 'y1', 'y2')\", \"('inc', 'x3', 'x4')\"}\n",
      "neg : {\"('at', 'maxime', 'x1', 'y1')\", \"('wall', 'x2', 'y1')\", \"('wall', 'x1', 'y2')\"}\n"
     ]
    }
   ],
   "source": [
    "print(next_state)"
   ]
  },
  {
   "cell_type": "code",
   "execution_count": 267,
   "metadata": {},
   "outputs": [
    {
     "name": "stdout",
     "output_type": "stream",
     "text": [
      "{pre_pos : {\"('inc', 'x1', 'x2')\", \"('at', 'maxime', 'x1', 'y1')\"}\n",
      "pre_neg : {\"('wall', 'x2', 'y1')\"}\n",
      "eff_pos : {\"('at', 'maxime', 'x2', 'y1')\"}\n",
      "eff_neg : {\"('at', 'maxime', 'x1', 'y1')\"}\n",
      ", pre_pos : {\"('at', 'maxime', 'x1', 'y1')\", \"('inc', 'y1', 'y2')\"}\n",
      "pre_neg : {\"('wall', 'x1', 'y2')\"}\n",
      "eff_pos : {\"('at', 'maxime', 'x1', 'y2')\"}\n",
      "eff_neg : {\"('at', 'maxime', 'x1', 'y1')\"}\n",
      "}\n"
     ]
    }
   ],
   "source": [
    "print(next_action)"
   ]
  },
  {
   "cell_type": "code",
   "execution_count": 260,
   "metadata": {},
   "outputs": [
    {
     "name": "stdout",
     "output_type": "stream",
     "text": [
      "pre_pos : {\"('at', 'maxime', 'x1', 'y1')\", \"('inc', 'y1', 'y2')\"}\n",
      "pre_neg : {\"('wall', 'x1', 'y2')\"}\n",
      "eff_pos : {\"('at', 'maxime', 'x1', 'y2')\"}\n",
      "eff_neg : {\"('at', 'maxime', 'x1', 'y1')\"}\n"
     ]
    }
   ],
   "source": [
    "print(list(next_action)[0])"
   ]
  },
  {
   "cell_type": "code",
   "execution_count": null,
   "metadata": {},
   "outputs": [],
   "source": []
  }
 ],
 "metadata": {
  "kernelspec": {
   "display_name": "PO",
   "language": "python",
   "name": "python3"
  },
  "language_info": {
   "codemirror_mode": {
    "name": "ipython",
    "version": 3
   },
   "file_extension": ".py",
   "mimetype": "text/x-python",
   "name": "python",
   "nbconvert_exporter": "python",
   "pygments_lexer": "ipython3",
   "version": "3.12.1"
  }
 },
 "nbformat": 4,
 "nbformat_minor": 2
}
