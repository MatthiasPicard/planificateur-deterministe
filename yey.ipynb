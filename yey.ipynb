{
 "cells": [
  {
   "cell_type": "code",
   "execution_count": 1,
   "metadata": {},
   "outputs": [
    {
     "ename": "ImportError",
     "evalue": "cannot import name 'create_PlanningProblem' from 'pddlpy' (c:\\Users\\matth\\AppData\\Local\\Programs\\Python\\Python311\\Lib\\site-packages\\pddlpy\\__init__.py)",
     "output_type": "error",
     "traceback": [
      "\u001b[1;31m---------------------------------------------------------------------------\u001b[0m",
      "\u001b[1;31mImportError\u001b[0m                               Traceback (most recent call last)",
      "Cell \u001b[1;32mIn[1], line 1\u001b[0m\n\u001b[1;32m----> 1\u001b[0m \u001b[38;5;28;01mfrom\u001b[39;00m \u001b[38;5;21;01mpddlpy\u001b[39;00m \u001b[38;5;28;01mimport\u001b[39;00m DomainProblem, create_PlanningProblem\n\u001b[0;32m      3\u001b[0m \u001b[38;5;28;01mimport\u001b[39;00m \u001b[38;5;21;01mos\u001b[39;00m\n\u001b[0;32m      5\u001b[0m domain_file \u001b[38;5;241m=\u001b[39m \u001b[38;5;124m\"\u001b[39m\u001b[38;5;124mGroupe3/maze_jumper.pddl\u001b[39m\u001b[38;5;124m\"\u001b[39m\n",
      "\u001b[1;31mImportError\u001b[0m: cannot import name 'create_PlanningProblem' from 'pddlpy' (c:\\Users\\matth\\AppData\\Local\\Programs\\Python\\Python311\\Lib\\site-packages\\pddlpy\\__init__.py)"
     ]
    }
   ],
   "source": [
    "from pddlpy import DomainProblem, create_PlanningProblem\n",
    "\n",
    "import os\n",
    "\n",
    "domain_file = \"Groupe3/maze_jumper.pddl\"\n",
    "problem_file = \"Groupe3/problems/maze_p0.pddl\"\n",
    "\n",
    "# Ensure the files exist\n",
    "if not (os.path.exists(domain_file) and os.path.exists(problem_file)):\n",
    "    print(\"Domain or problem file not found.\")\n",
    "    exit()\n",
    "\n",
    "# Parse the domain and problem\n",
    "domain_problem = DomainProblem(domain_file)\n",
    "\n",
    "domain = domain_problem.domain\n",
    "problem = domain_problem.problem\n",
    "\n",
    "# Print domain and problem information (just as an example)\n",
    "print(\"Domain Name:\", domain.domain_name)\n",
    "print(\"Requirements:\", domain.requirements)\n",
    "print(\"Actions:\")\n",
    "for action in domain.actions:\n",
    "    print(\"\\t\", action.name)\n",
    "print(\"Objects:\", problem.objects)\n",
    "print(\"Init:\", problem.init)\n",
    "print(\"Goal:\", problem.goal)"
   ]
  }
 ],
 "metadata": {
  "kernelspec": {
   "display_name": "Python 3",
   "language": "python",
   "name": "python3"
  },
  "language_info": {
   "codemirror_mode": {
    "name": "ipython",
    "version": 3
   },
   "file_extension": ".py",
   "mimetype": "text/x-python",
   "name": "python",
   "nbconvert_exporter": "python",
   "pygments_lexer": "ipython3",
   "version": "3.11.7"
  }
 },
 "nbformat": 4,
 "nbformat_minor": 2
}
