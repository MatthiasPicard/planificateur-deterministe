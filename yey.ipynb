{
 "cells": [
  {
   "cell_type": "code",
   "execution_count": 2,
   "metadata": {},
   "outputs": [
    {
     "ename": "AttributeError",
     "evalue": "module 'pddl' has no attribute 'parse_domain_file'",
     "output_type": "error",
     "traceback": [
      "\u001b[1;31m---------------------------------------------------------------------------\u001b[0m",
      "\u001b[1;31mAttributeError\u001b[0m                            Traceback (most recent call last)",
      "Cell \u001b[1;32mIn[2], line 11\u001b[0m\n\u001b[0;32m      8\u001b[0m     \u001b[38;5;28mprint\u001b[39m(\u001b[38;5;124m\"\u001b[39m\u001b[38;5;124mDomain or problem file not found.\u001b[39m\u001b[38;5;124m\"\u001b[39m)\n\u001b[0;32m      9\u001b[0m     exit()\n\u001b[1;32m---> 11\u001b[0m domain \u001b[38;5;241m=\u001b[39m \u001b[43mpddl\u001b[49m\u001b[38;5;241;43m.\u001b[39;49m\u001b[43mparse_domain_file\u001b[49m(domain_file)\n\u001b[0;32m     12\u001b[0m problem \u001b[38;5;241m=\u001b[39m pddl\u001b[38;5;241m.\u001b[39mparse_problem_file(problem_file)\n\u001b[0;32m     14\u001b[0m \u001b[38;5;66;03m# print(\"Domain Name:\", domain.domain_name)\u001b[39;00m\n\u001b[0;32m     15\u001b[0m \u001b[38;5;66;03m# print(\"Requirements:\", domain.requirements)\u001b[39;00m\n\u001b[0;32m     16\u001b[0m \u001b[38;5;66;03m# print(\"Actions:\")\u001b[39;00m\n\u001b[1;32m   (...)\u001b[0m\n\u001b[0;32m     20\u001b[0m \u001b[38;5;66;03m# print(\"Init:\", problem.init)\u001b[39;00m\n\u001b[0;32m     21\u001b[0m \u001b[38;5;66;03m# print(\"Goal:\", problem.goal)\u001b[39;00m\n",
      "\u001b[1;31mAttributeError\u001b[0m: module 'pddl' has no attribute 'parse_domain_file'"
     ]
    }
   ],
   "source": [
    "import pddl \n",
    "import os\n",
    "\n",
    "domain_file = \"Groupe3/maze_jumper.pddl\"\n",
    "problem_file = \"Groupe3/problems/maze_p0.pddl\"\n",
    "\n",
    "if not (os.path.exists(domain_file) and os.path.exists(problem_file)):\n",
    "    print(\"Domain or problem file not found.\")\n",
    "    exit()\n",
    "\n",
    "domain = pddl.parse_domain_file(domain_file)\n",
    "problem = pddl.parse_problem_file(problem_file)\n",
    "\n",
    "# print(\"Domain Name:\", domain.domain_name)\n",
    "# print(\"Requirements:\", domain.requirements)\n",
    "# print(\"Actions:\")\n",
    "# for action in domain.actions:\n",
    "#     print(\"\\t\", action.name)\n",
    "# print(\"Objects:\", problem.objects)\n",
    "# print(\"Init:\", problem.init)\n",
    "# print(\"Goal:\", problem.goal)"
   ]
  }
 ],
 "metadata": {
  "kernelspec": {
   "display_name": "Python 3",
   "language": "python",
   "name": "python3"
  },
  "language_info": {
   "codemirror_mode": {
    "name": "ipython",
    "version": 3
   },
   "file_extension": ".py",
   "mimetype": "text/x-python",
   "name": "python",
   "nbconvert_exporter": "python",
   "pygments_lexer": "ipython3",
   "version": "3.11.7"
  }
 },
 "nbformat": 4,
 "nbformat_minor": 2
}
