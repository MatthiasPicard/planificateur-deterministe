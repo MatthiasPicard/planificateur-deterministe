{
 "cells": [
  {
   "cell_type": "code",
   "execution_count": 1,
   "metadata": {},
   "outputs": [],
   "source": [
    "import pddlpy\n",
    "import pddl\n",
    "\n",
    "domain = \"..\\Problems\\Groupe3\\maze.pddl\"\n",
    "problem = '..\\Problems\\Groupe3\\problems\\maze_p0.pddl'\n",
    "\n",
    "domainpb = pddlpy.DomainProblem(domain, problem)"
   ]
  },
  {
   "cell_type": "code",
   "execution_count": 65,
   "metadata": {},
   "outputs": [
    {
     "name": "stdout",
     "output_type": "stream",
     "text": [
      "jump-right\n",
      "move-right\n",
      "move-left\n",
      "jump-up\n",
      "jump-down\n",
      "jump-left\n",
      "move-down\n",
      "move-up\n",
      "[Predicate(inc, y2, y3), Not(Predicate(at, maxime, x1, y1)), Predicate(dec, y4, y3), Predicate(dec, x2, x1), Predicate(dec, x3, x2), Predicate(dec, y2, y1), Predicate(inc, x1, x2), Predicate(inc, x3, x4), Predicate(dec, x4, x3), Predicate(inc, y1, y2), Predicate(can_jump, maxime), Predicate(inc, x2, x3), Predicate(dec, y3, y2), Predicate(inc, y3, y4)]\n"
     ]
    }
   ],
   "source": [
    "from pddl import parse_domain, parse_problem\n",
    "\n",
    "domain = parse_domain(\"..\\Problems\\Groupe3\\maze.pddl\")\n",
    "problem = parse_problem('..\\Problems\\Groupe3\\problems\\maze_p0.pddl')\n",
    "\n",
    "actions = [a for a in domain.actions]\n",
    "for a in domain.actions:\n",
    "    print(a.name)\n",
    "\n",
    "l = list(problem.init)\n",
    "print(l)"
   ]
  },
  {
   "cell_type": "code",
   "execution_count": 2,
   "metadata": {},
   "outputs": [],
   "source": [
    "hello = domainpb.initialstate()"
   ]
  },
  {
   "cell_type": "code",
   "execution_count": 53,
   "metadata": {},
   "outputs": [
    {
     "name": "stdout",
     "output_type": "stream",
     "text": [
      "['__and__', '__class__', '__class_getitem__', '__contains__', '__delattr__', '__dir__', '__doc__', '__eq__', '__format__', '__ge__', '__getattribute__', '__getstate__', '__gt__', '__hash__', '__iand__', '__init__', '__init_subclass__', '__ior__', '__isub__', '__iter__', '__ixor__', '__le__', '__len__', '__lt__', '__ne__', '__new__', '__or__', '__rand__', '__reduce__', '__reduce_ex__', '__repr__', '__ror__', '__rsub__', '__rxor__', '__setattr__', '__sizeof__', '__str__', '__sub__', '__subclasshook__', '__xor__', 'add', 'clear', 'copy', 'difference', 'difference_update', 'discard', 'intersection', 'intersection_update', 'isdisjoint', 'issubset', 'issuperset', 'pop', 'remove', 'symmetric_difference', 'symmetric_difference_update', 'union', 'update']\n"
     ]
    }
   ],
   "source": [
    "print(dir(hello))"
   ]
  },
  {
   "cell_type": "code",
   "execution_count": 57,
   "metadata": {},
   "outputs": [
    {
     "name": "stdout",
     "output_type": "stream",
     "text": [
      "{('at', 'maxime', 'x1', 'y1')}\n",
      "{('can_jump', 'maxime'), ('inc', 'y1', 'y2'), ('dec', 'x3', 'x2'), ('dec', 'x2', 'x1'), ('dec', 'x4', 'x3'), ('at', 'maxime', 'x1', 'y2'), ('inc', 'x2', 'x3'), ('inc', 'y2', 'y3'), ('dec', 'y2', 'y1'), ('at', 'maxime', 'x1', 'y1'), ('inc', 'y3', 'y4'), ('dec', 'y4', 'y3'), ('inc', 'x1', 'x2'), ('dec', 'y3', 'y2'), ('inc', 'x3', 'x4')}\n"
     ]
    }
   ],
   "source": [
    "state = domainpb.initialstate()\n",
    "actions = domainpb.ground_operator('move-down')\n",
    "\n",
    "def is_applicable(action, state):\n",
    "    predicates = [elem.predicate for elem in state]\n",
    "    return all(list(pre) in predicates for pre in action.precondition_pos)\n",
    "\n",
    "def apply_action(action, state):\n",
    "    # new_state = state.copy()\n",
    "    # new_state.update(action.effect_pos)\n",
    "    # new_state.difference_update(action.effect_neg) # ne fait rien jsp pk\n",
    "    # return new_state\n",
    "\n",
    "    new_state = state.copy()\n",
    "    for effect in action.effect_pos:\n",
    "        new_state.add(effect)\n",
    "    print(action.effect_neg)\n",
    "    print(set(new_state))\n",
    "    for effect in action.effect_neg:\n",
    "        new_state.discard(effect)\n",
    "    return new_state\n",
    "\n",
    "\n",
    "def total_state(actions,state):\n",
    "    liste_actions = [] # une action peut être effectuer sur des objets différents dans un état donné\n",
    "    for action in actions:\n",
    "        if is_applicable(action, state):\n",
    "            liste_actions.append(apply_action(action, state))\n",
    "    return liste_actions\n",
    "\n",
    "actions = total_state(actions, state)"
   ]
  },
  {
   "cell_type": "code",
   "execution_count": 55,
   "metadata": {},
   "outputs": [
    {
     "data": {
      "text/plain": [
       "[{('at', 'maxime', 'x1', 'y1'),\n",
       "  ('at', 'maxime', 'x1', 'y2'),\n",
       "  ('can_jump', 'maxime'),\n",
       "  ('dec', 'x2', 'x1'),\n",
       "  ('dec', 'x3', 'x2'),\n",
       "  ('dec', 'x4', 'x3'),\n",
       "  ('dec', 'y2', 'y1'),\n",
       "  ('dec', 'y3', 'y2'),\n",
       "  ('dec', 'y4', 'y3'),\n",
       "  ('inc', 'x1', 'x2'),\n",
       "  ('inc', 'x2', 'x3'),\n",
       "  ('inc', 'x3', 'x4'),\n",
       "  ('inc', 'y1', 'y2'),\n",
       "  ('inc', 'y2', 'y3'),\n",
       "  ('inc', 'y3', 'y4')}]"
      ]
     },
     "execution_count": 55,
     "metadata": {},
     "output_type": "execute_result"
    }
   ],
   "source": [
    "actions"
   ]
  },
  {
   "cell_type": "code",
   "execution_count": 34,
   "metadata": {},
   "outputs": [
    {
     "name": "stdout",
     "output_type": "stream",
     "text": [
      "{('at', 'maxime', 'x1', 'x1'), ('dec', 'x1', 'y1')}\n"
     ]
    }
   ],
   "source": [
    "print(list(domainpb.ground_operator('move-up'))[4].precondition_pos)"
   ]
  },
  {
   "cell_type": "code",
   "execution_count": 29,
   "metadata": {},
   "outputs": [
    {
     "data": {
      "text/plain": [
       "True"
      ]
     },
     "execution_count": 29,
     "metadata": {},
     "output_type": "execute_result"
    }
   ],
   "source": [
    "[(1,2),(6,3)] == [(1,2),(6,3)]\n"
   ]
  },
  {
   "cell_type": "code",
   "execution_count": 96,
   "metadata": {},
   "outputs": [
    {
     "name": "stdout",
     "output_type": "stream",
     "text": [
      "[Constant(tile_2), Constant(tile_0), Constant(tile_1)]\n"
     ]
    }
   ],
   "source": [
    "import itertools\n",
    "\n",
    "def can_do(liste_actions, problem):\n",
    "    \"\"\"return the list of actions that can be done in the current state\"\"\"\n",
    "    list_actions_possible = []\n",
    "    for action in liste_actions:\n",
    "        param_types = list(action.parameters[0].type_tags)\n",
    "        matching_objects = [obj for obj in problem.objects if list(obj.type_tags)[0] in param_types]\n",
    "        print(matching_objects)\n",
    "        for combination in itertools.product(matching_objects, repeat=len(param_types)):\n",
    "            list_actions_possible.append((action, combination))\n",
    "\n",
    "    return list_actionss_possible\n",
    "\n",
    "# liste_predicats = [[]]\n",
    "# liste_actions = domain.actions\n",
    "\n",
    "# liste_actions = can_do(liste_actions)\n",
    "# for action in liste_actions:\n",
    "\n",
    "    \n",
    "liste_actions = list(domain.actions)\n",
    "liste_actions_possible = can_do(liste_actions, problem)  "
   ]
  },
  {
   "cell_type": "code",
   "execution_count": 95,
   "metadata": {},
   "outputs": [
    {
     "data": {
      "text/plain": [
       "(Variable(t), Variable(from), Variable(to))"
      ]
     },
     "execution_count": 95,
     "metadata": {},
     "output_type": "execute_result"
    }
   ],
   "source": [
    "list(domain.actions)[0].parameters"
   ]
  },
  {
   "cell_type": "code",
   "execution_count": 3,
   "metadata": {},
   "outputs": [
    {
     "name": "stdout",
     "output_type": "stream",
     "text": [
      "[Predicate(inc, y1, y2), Predicate(inc, y2, y3), Predicate(inc, y3, y4), Predicate(dec, y3, y2), Predicate(inc, x3, x4), Predicate(dec, x2, x1), Predicate(inc, x1, x2), Predicate(dec, x4, x3), Not(Predicate(at, maxime, x1, y1)), Predicate(dec, x3, x2), Predicate(can_jump, maxime), Predicate(inc, x2, x3), Predicate(dec, y2, y1), Predicate(dec, y4, y3)]\n",
      "<class 'pddl.logic.predicates.Predicate'>\n",
      "<class 'pddl.logic.predicates.Predicate'>\n",
      "<class 'pddl.logic.predicates.Predicate'>\n",
      "<class 'pddl.logic.predicates.Predicate'>\n",
      "<class 'pddl.logic.predicates.Predicate'>\n",
      "<class 'pddl.logic.predicates.Predicate'>\n",
      "<class 'pddl.logic.predicates.Predicate'>\n",
      "<class 'pddl.logic.predicates.Predicate'>\n",
      "<class 'pddl.logic.base.Not'>\n",
      "<class 'pddl.logic.predicates.Predicate'>\n",
      "<class 'pddl.logic.predicates.Predicate'>\n",
      "<class 'pddl.logic.predicates.Predicate'>\n",
      "<class 'pddl.logic.predicates.Predicate'>\n",
      "<class 'pddl.logic.predicates.Predicate'>\n"
     ]
    }
   ],
   "source": [
    "import pddl\n",
    "import pddlpy\n",
    "\n",
    "domain = \"..\\Problems\\Groupe3\\maze.pddl\"\n",
    "problem = '..\\Problems\\Groupe3\\problems\\maze_p0.pddl'\n",
    "\n",
    "\n",
    "problem_pddly = pddlpy.DomainProblem(domain,problem)\n",
    "problem=pddl.parse_problem(problem)\n",
    "pb_list=list(problem.init)\n",
    "print(pb_list)\n",
    "init_pos=[]\n",
    "init_neg=[]\n",
    "for predi in pb_list : \n",
    "    print(type(predi))\n",
    "    if isinstance(predi, pddl.logic.base.Not ):\n",
    "        predi_intermedaire = predi.argument\n",
    "        tuple_l = tuple([str(predi_intermedaire.name)] + [str(c.name) for c in predi_intermedaire.terms])\n",
    "        init_neg.append(tuple_l)\n",
    "    if isinstance(predi, pddl.logic.predicates.Predicate) :\n",
    "        tuple_l = tuple([str(predi.name)] + [str(c.name) for c in predi.terms])\n",
    "        init_pos.append(tuple_l)"
   ]
  },
  {
   "cell_type": "code",
   "execution_count": 20,
   "metadata": {},
   "outputs": [],
   "source": [
    "domain = \"..\\Problems\\Groupe3\\maze.pddl\"\n",
    "problem = '..\\Problems\\Groupe3\\problems\\maze_p0.pddl'\n",
    "\n",
    "dp = pddlpy.DomainProblem(domain, problem)\n",
    "neg_predicates = []\n",
    "pos_predicates = []\n",
    "problem = pddl.parse_problem(problem) # we need to use pddl to extract negations\n",
    "for predicate in list(problem.init):\n",
    "    if isinstance(predicate, pddl.logic.base.Not):\n",
    "        neg_predicates.append(tuple([str(predicate.argument.name)] + [str(c.name) for c in predicate.argument.terms]))\n",
    "    elif isinstance(predicate, pddl.logic.predicates.Predicate) :\n",
    "        pos_predicates.append(tuple([str(predicate.name)] + [str(c.name) for c in predicate.terms]))\n",
    "    else:\n",
    "        raise ValueError(\"Unknown predicate type\")\n",
    "\n",
    "# State(set_str(dp.initialstate()), set()) "
   ]
  },
  {
   "cell_type": "code",
   "execution_count": 25,
   "metadata": {},
   "outputs": [
    {
     "data": {
      "text/plain": [
       "{\"('at', 'maxime', 'x1', 'y1')\",\n",
       " \"('can_jump', 'maxime')\",\n",
       " \"('dec', 'x2', 'x1')\",\n",
       " \"('dec', 'x3', 'x2')\",\n",
       " \"('dec', 'x4', 'x3')\",\n",
       " \"('dec', 'y2', 'y1')\",\n",
       " \"('dec', 'y3', 'y2')\",\n",
       " \"('dec', 'y4', 'y3')\",\n",
       " \"('inc', 'x1', 'x2')\",\n",
       " \"('inc', 'x2', 'x3')\",\n",
       " \"('inc', 'x3', 'x4')\",\n",
       " \"('inc', 'y1', 'y2')\",\n",
       " \"('inc', 'y2', 'y3')\",\n",
       " \"('inc', 'y3', 'y4')\"}"
      ]
     },
     "execution_count": 25,
     "metadata": {},
     "output_type": "execute_result"
    }
   ],
   "source": [
    "set_str(dp.initialstate())"
   ]
  },
  {
   "cell_type": "code",
   "execution_count": 11,
   "metadata": {},
   "outputs": [],
   "source": [
    "def set_str(s: set):\n",
    "    s_str = set()\n",
    "    for i in s:\n",
    "        s_str.add(str(i))\n",
    "    return s_str"
   ]
  }
 ],
 "metadata": {
  "kernelspec": {
   "display_name": "Python 3",
   "language": "python",
   "name": "python3"
  },
  "language_info": {
   "codemirror_mode": {
    "name": "ipython",
    "version": 3
   },
   "file_extension": ".py",
   "mimetype": "text/x-python",
   "name": "python",
   "nbconvert_exporter": "python",
   "pygments_lexer": "ipython3",
   "version": "3.11.7"
  }
 },
 "nbformat": 4,
 "nbformat_minor": 2
}
