{
 "cells": [
  {
   "cell_type": "code",
   "execution_count": 3,
   "metadata": {},
   "outputs": [],
   "source": [
    "import pddlpy\n",
    "\n",
    "domain = \"..\\Problems\\Groupe3\\maze.pddl\"\n",
    "problem = '..\\Problems\\Groupe3\\problems\\maze_p0.pddl'\n",
    "\n",
    "domainpb = pddlpy.DomainProblem(domain, problem)"
   ]
  },
  {
   "cell_type": "code",
   "execution_count": 138,
   "metadata": {},
   "outputs": [
    {
     "data": {
      "text/plain": [
       "False"
      ]
     },
     "execution_count": 138,
     "metadata": {},
     "output_type": "execute_result"
    }
   ],
   "source": [
    "('dec', 'y2', 'y1') in [elem.predicate for elem in state]\n"
   ]
  },
  {
   "cell_type": "code",
   "execution_count": 136,
   "metadata": {},
   "outputs": [
    {
     "data": {
      "text/plain": [
       "[['at', 'maxime', 'x1', 'y1'],\n",
       " ['inc', 'y1', 'y2'],\n",
       " ['dec', 'x4', 'x3'],\n",
       " ['dec', 'y2', 'y1'],\n",
       " ['inc', 'x1', 'x2'],\n",
       " ['dec', 'x2', 'x1'],\n",
       " ['inc', 'x3', 'x4'],\n",
       " ['inc', 'y3', 'y4'],\n",
       " ['dec', 'y3', 'y2'],\n",
       " ['can_jump', 'maxime'],\n",
       " ['dec', 'x3', 'x2'],\n",
       " ['inc', 'y2', 'y3'],\n",
       " ['inc', 'x2', 'x3'],\n",
       " ['dec', 'y4', 'y3']]"
      ]
     },
     "execution_count": 136,
     "metadata": {},
     "output_type": "execute_result"
    }
   ],
   "source": [
    "[elem.predicate for elem in state]"
   ]
  },
  {
   "cell_type": "code",
   "execution_count": 135,
   "metadata": {},
   "outputs": [
    {
     "data": {
      "text/plain": [
       "['dec', 'x1', 'x1']"
      ]
     },
     "execution_count": 135,
     "metadata": {},
     "output_type": "execute_result"
    }
   ],
   "source": [
    "list(list(list(domainpb.ground_operator('move-up'))[0].precondition_pos)[0])"
   ]
  },
  {
   "cell_type": "code",
   "execution_count": 131,
   "metadata": {},
   "outputs": [
    {
     "data": {
      "text/plain": [
       "('dec', 'x1', 'x1')"
      ]
     },
     "execution_count": 131,
     "metadata": {},
     "output_type": "execute_result"
    }
   ],
   "source": [
    "list(list(domainpb.ground_operator('move-up'))[0].precondition_pos)[0]"
   ]
  },
  {
   "cell_type": "code",
   "execution_count": 145,
   "metadata": {},
   "outputs": [
    {
     "data": {
      "text/plain": [
       "[]"
      ]
     },
     "execution_count": 145,
     "metadata": {},
     "output_type": "execute_result"
    }
   ],
   "source": [
    "state = domainpb.initialstate()\n",
    "actions = domainpb.ground_operator('move-down')\n",
    "\n",
    "def is_applicable(action, state):\n",
    "    predicates = [elem.predicate for elem in state]\n",
    "    print(action.precondition_pos)\n",
    "    print(set.union(action.precondition_pos,action.precondition_neg))\n",
    "    return all(list(pre) in predicates for pre in set.union(action.precondition_pos,action.precondition_neg))\n",
    "\n",
    "def apply_action(action, state):\n",
    "    new_state = state.copy()\n",
    "    new_state.update(action.effect_pos)\n",
    "    new_state.difference_update(action.effect_neg)\n",
    "    return new_state\n",
    "\n",
    "def total_state(actions,state):\n",
    "    liste_effet = []\n",
    "    for action in actions:\n",
    "        if is_applicable(action, state):\n",
    "            print('yey')\n",
    "            liste_effet.append(apply_action(action, state))\n",
    "    return liste_effet\n",
    "\n",
    "total_state(actions, state)"
   ]
  },
  {
   "cell_type": "code",
   "execution_count": 47,
   "metadata": {},
   "outputs": [
    {
     "name": "stdout",
     "output_type": "stream",
     "text": [
      "{('dec', 'x1', 'y1'), ('at', 'maxime', 'x1', 'x1')}\n"
     ]
    }
   ],
   "source": [
    "print(list(domainpb.ground_operator('move-up'))[4].precondition_pos)"
   ]
  },
  {
   "cell_type": "code",
   "execution_count": 96,
   "metadata": {},
   "outputs": [
    {
     "name": "stdout",
     "output_type": "stream",
     "text": [
      "[Constant(tile_2), Constant(tile_0), Constant(tile_1)]\n"
     ]
    }
   ],
   "source": [
    "import itertools\n",
    "\n",
    "def can_do(liste_actions, problem):\n",
    "    \"\"\"return the list of actions that can be done in the current state\"\"\"\n",
    "    list_actions_possible = []\n",
    "    for action in liste_actions:\n",
    "        param_types = list(action.parameters[0].type_tags)\n",
    "        matching_objects = [obj for obj in problem.objects if list(obj.type_tags)[0] in param_types]\n",
    "        print(matching_objects)\n",
    "        for combination in itertools.product(matching_objects, repeat=len(param_types)):\n",
    "            list_actions_possible.append((action, combination))\n",
    "\n",
    "    return list_actionss_possible\n",
    "\n",
    "# liste_predicats = [[]]\n",
    "# liste_actions = domain.actions\n",
    "\n",
    "# liste_actions = can_do(liste_actions)\n",
    "# for action in liste_actions:\n",
    "\n",
    "    \n",
    "liste_actions = list(domain.actions)\n",
    "liste_actions_possible = can_do(liste_actions, problem)  "
   ]
  },
  {
   "cell_type": "code",
   "execution_count": 95,
   "metadata": {},
   "outputs": [
    {
     "data": {
      "text/plain": [
       "(Variable(t), Variable(from), Variable(to))"
      ]
     },
     "execution_count": 95,
     "metadata": {},
     "output_type": "execute_result"
    }
   ],
   "source": [
    "list(domain.actions)[0].parameters"
   ]
  },
  {
   "cell_type": "code",
   "execution_count": 39,
   "metadata": {},
   "outputs": [
    {
     "data": {
      "text/plain": [
       "[(Action(jump-left, parameters=?omf, precondition=(can_jump ?omf), effect=(forall (?xn - position ?x - position ?y - position) (when (and (at ?omf ?x ?y) (dec ?x ?xn) (wall ?xn ?y)) (and (not (at ?omf ?x ?y)) (at ?omf ?xn ?y) (not (can_jump ?omf)))))),\n",
       "  (Constant(maxime),)),\n",
       " (Action(move-down, parameters=?omf, precondition=(or ), effect=(forall (?yn - position ?x - position ?y - position) (when (and (at ?omf ?x ?y) (inc ?y ?yn) (not (wall ?x ?yn))) (and (not (at ?omf ?x ?y)) (at ?omf ?x ?yn))))),\n",
       "  (Constant(maxime),)),\n",
       " (Action(jump-up, parameters=?omf, precondition=(can_jump ?omf), effect=(forall (?yn - position ?x - position ?y - position) (when (and (at ?omf ?x ?y) (dec ?y ?yn) (wall ?x ?yn)) (and (not (at ?omf ?x ?y)) (at ?omf ?x ?yn) (not (can_jump ?omf)))))),\n",
       "  (Constant(maxime),)),\n",
       " (Action(jump-down, parameters=?omf, precondition=(can_jump ?omf), effect=(forall (?yn - position ?x - position ?y - position) (when (and (at ?omf ?x ?y) (inc ?y ?yn) (wall ?x ?yn)) (and (not (at ?omf ?x ?y)) (at ?omf ?x ?yn) (not (can_jump ?omf)))))),\n",
       "  (Constant(maxime),)),\n",
       " (Action(move-up, parameters=?omf, precondition=(or ), effect=(forall (?yn - position ?x - position ?y - position) (when (and (at ?omf ?x ?y) (dec ?y ?yn) (not (wall ?x ?yn))) (and (not (at ?omf ?x ?y)) (at ?omf ?x ?yn))))),\n",
       "  (Constant(maxime),)),\n",
       " (Action(move-right, parameters=?omf, precondition=(or ), effect=(forall (?xn - position ?x - position ?y - position) (when (and (at ?omf ?x ?y) (inc ?x ?xn) (not (wall ?xn ?y))) (and (not (at ?omf ?x ?y)) (at ?omf ?xn ?y))))),\n",
       "  (Constant(maxime),)),\n",
       " (Action(jump-right, parameters=?omf, precondition=(can_jump ?omf), effect=(forall (?xn - position ?x - position ?y - position) (when (and (at ?omf ?x ?y) (inc ?x ?xn) (wall ?xn ?y)) (and (not (at ?omf ?x ?y)) (at ?omf ?xn ?y) (not (can_jump ?omf)))))),\n",
       "  (Constant(maxime),)),\n",
       " (Action(move-left, parameters=?omf, precondition=(or ), effect=(forall (?xn - position ?x - position ?y - position) (when (and (at ?omf ?x ?y) (dec ?x ?xn) (not (wall ?xn ?y))) (and (not (at ?omf ?x ?y)) (at ?omf ?xn ?y))))),\n",
       "  (Constant(maxime),))]"
      ]
     },
     "execution_count": 39,
     "metadata": {},
     "output_type": "execute_result"
    }
   ],
   "source": [
    "liste_actions_possible"
   ]
  }
 ],
 "metadata": {
  "kernelspec": {
   "display_name": "Python 3",
   "language": "python",
   "name": "python3"
  },
  "language_info": {
   "codemirror_mode": {
    "name": "ipython",
    "version": 3
   },
   "file_extension": ".py",
   "mimetype": "text/x-python",
   "name": "python",
   "nbconvert_exporter": "python",
   "pygments_lexer": "ipython3",
   "version": "3.11.7"
  }
 },
 "nbformat": 4,
 "nbformat_minor": 2
}
